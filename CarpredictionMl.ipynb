{
 "cells": [
  {
   "cell_type": "markdown",
   "metadata": {},
   "source": [
    "# Importing Dataset¶"
   ]
  },
  {
   "cell_type": "code",
   "execution_count": 144,
   "metadata": {},
   "outputs": [
    {
     "data": {
      "text/html": [
       "<div>\n",
       "<style scoped>\n",
       "    .dataframe tbody tr th:only-of-type {\n",
       "        vertical-align: middle;\n",
       "    }\n",
       "\n",
       "    .dataframe tbody tr th {\n",
       "        vertical-align: top;\n",
       "    }\n",
       "\n",
       "    .dataframe thead th {\n",
       "        text-align: right;\n",
       "    }\n",
       "</style>\n",
       "<table border=\"1\" class=\"dataframe\">\n",
       "  <thead>\n",
       "    <tr style=\"text-align: right;\">\n",
       "      <th></th>\n",
       "      <th>location</th>\n",
       "      <th>title</th>\n",
       "      <th>details</th>\n",
       "      <th>price(rs)</th>\n",
       "      <th>emi/month</th>\n",
       "    </tr>\n",
       "  </thead>\n",
       "  <tbody>\n",
       "    <tr>\n",
       "      <th>0</th>\n",
       "      <td>Delhi</td>\n",
       "      <td>2012 Maruti Swift\\n</td>\n",
       "      <td>VDI Manual</td>\n",
       "      <td>314499</td>\n",
       "      <td>6996</td>\n",
       "    </tr>\n",
       "    <tr>\n",
       "      <th>1</th>\n",
       "      <td>Delhi</td>\n",
       "      <td>2014 Toyota Innova\\n</td>\n",
       "      <td>2.5 GX 7 STR BS IV Manual</td>\n",
       "      <td>708499</td>\n",
       "      <td>15760</td>\n",
       "    </tr>\n",
       "    <tr>\n",
       "      <th>2</th>\n",
       "      <td>Delhi</td>\n",
       "      <td>2017 Toyota Innova Crysta\\n\\n</td>\n",
       "      <td>Touring Sport Diesel AT Automatic</td>\n",
       "      <td>1500699</td>\n",
       "      <td>33382</td>\n",
       "    </tr>\n",
       "    <tr>\n",
       "      <th>3</th>\n",
       "      <td>Delhi</td>\n",
       "      <td>2015 Hyundai Creta\\n\\n</td>\n",
       "      <td>1.6 S Manual</td>\n",
       "      <td>802599</td>\n",
       "      <td>17853</td>\n",
       "    </tr>\n",
       "    <tr>\n",
       "      <th>4</th>\n",
       "      <td>Delhi</td>\n",
       "      <td>2011 Hyundai i20\\n</td>\n",
       "      <td>SPORTZ 1.2 O Manual</td>\n",
       "      <td>345299</td>\n",
       "      <td>7681</td>\n",
       "    </tr>\n",
       "    <tr>\n",
       "      <th>...</th>\n",
       "      <td>...</td>\n",
       "      <td>...</td>\n",
       "      <td>...</td>\n",
       "      <td>...</td>\n",
       "      <td>...</td>\n",
       "    </tr>\n",
       "    <tr>\n",
       "      <th>509</th>\n",
       "      <td>Nasik</td>\n",
       "      <td>2017 Hyundai Verna</td>\n",
       "      <td>1.6 SX VTVT Manual</td>\n",
       "      <td>641599</td>\n",
       "      <td>14272</td>\n",
       "    </tr>\n",
       "    <tr>\n",
       "      <th>510</th>\n",
       "      <td>Nasik</td>\n",
       "      <td>2013 Hyundai i20</td>\n",
       "      <td>MAGNA O 1.2 Manual</td>\n",
       "      <td>355199</td>\n",
       "      <td>7901</td>\n",
       "    </tr>\n",
       "    <tr>\n",
       "      <th>511</th>\n",
       "      <td>Nasik</td>\n",
       "      <td>2016 Maruti Baleno</td>\n",
       "      <td>ZETA 1.2 K12 Manual</td>\n",
       "      <td>570299</td>\n",
       "      <td>12686</td>\n",
       "    </tr>\n",
       "    <tr>\n",
       "      <th>512</th>\n",
       "      <td>Nasik</td>\n",
       "      <td>2013 Ford Ecosport</td>\n",
       "      <td>1.0 ECOBOOST TITANIUM OPT Manual</td>\n",
       "      <td>414599</td>\n",
       "      <td>9223</td>\n",
       "    </tr>\n",
       "    <tr>\n",
       "      <th>513</th>\n",
       "      <td>Nasik</td>\n",
       "      <td>2013 Maruti Alto 800</td>\n",
       "      <td>LXI Manual</td>\n",
       "      <td>215099</td>\n",
       "      <td>4785</td>\n",
       "    </tr>\n",
       "  </tbody>\n",
       "</table>\n",
       "<p>514 rows × 5 columns</p>\n",
       "</div>"
      ],
      "text/plain": [
       "    location                          title  \\\n",
       "0      Delhi            2012 Maruti Swift\\n   \n",
       "1      Delhi           2014 Toyota Innova\\n   \n",
       "2      Delhi  2017 Toyota Innova Crysta\\n\\n   \n",
       "3      Delhi         2015 Hyundai Creta\\n\\n   \n",
       "4      Delhi             2011 Hyundai i20\\n   \n",
       "..       ...                            ...   \n",
       "509    Nasik             2017 Hyundai Verna   \n",
       "510    Nasik               2013 Hyundai i20   \n",
       "511    Nasik             2016 Maruti Baleno   \n",
       "512    Nasik             2013 Ford Ecosport   \n",
       "513    Nasik           2013 Maruti Alto 800   \n",
       "\n",
       "                               details  price(rs)  emi/month  \n",
       "0                           VDI Manual     314499       6996  \n",
       "1            2.5 GX 7 STR BS IV Manual     708499      15760  \n",
       "2    Touring Sport Diesel AT Automatic    1500699      33382  \n",
       "3                         1.6 S Manual     802599      17853  \n",
       "4                  SPORTZ 1.2 O Manual     345299       7681  \n",
       "..                                 ...        ...        ...  \n",
       "509                 1.6 SX VTVT Manual     641599      14272  \n",
       "510                 MAGNA O 1.2 Manual     355199       7901  \n",
       "511                ZETA 1.2 K12 Manual     570299      12686  \n",
       "512   1.0 ECOBOOST TITANIUM OPT Manual     414599       9223  \n",
       "513                         LXI Manual     215099       4785  \n",
       "\n",
       "[514 rows x 5 columns]"
      ]
     },
     "execution_count": 144,
     "metadata": {},
     "output_type": "execute_result"
    }
   ],
   "source": [
    "import pandas as pd\n",
    "import numpy as np\n",
    "df = pd.DataFrame(pd.read_excel(\"Carprediction.xlsx\"))\n",
    "df"
   ]
  },
  {
   "cell_type": "markdown",
   "metadata": {},
   "source": [
    "we have total 514 rows and 5 columns target columns is price(rs)"
   ]
  },
  {
   "cell_type": "markdown",
   "metadata": {},
   "source": [
    "# Checking Null Value¶"
   ]
  },
  {
   "cell_type": "code",
   "execution_count": 85,
   "metadata": {},
   "outputs": [
    {
     "data": {
      "text/plain": [
       "location     0\n",
       "title        0\n",
       "details      0\n",
       "price(rs)    0\n",
       "emi/month    0\n",
       "dtype: int64"
      ]
     },
     "execution_count": 85,
     "metadata": {},
     "output_type": "execute_result"
    }
   ],
   "source": [
    "df.isnull().sum()"
   ]
  },
  {
   "cell_type": "markdown",
   "metadata": {},
   "source": [
    "no null value present on data set we can go ahed"
   ]
  },
  {
   "cell_type": "markdown",
   "metadata": {},
   "source": [
    "# Checking Datatypes"
   ]
  },
  {
   "cell_type": "code",
   "execution_count": 3,
   "metadata": {},
   "outputs": [
    {
     "data": {
      "text/plain": [
       "location     object\n",
       "title        object\n",
       "details      object\n",
       "price(rs)     int64\n",
       "emi/month     int64\n",
       "dtype: object"
      ]
     },
     "execution_count": 3,
     "metadata": {},
     "output_type": "execute_result"
    }
   ],
   "source": [
    "df.dtypes"
   ]
  },
  {
   "cell_type": "markdown",
   "metadata": {},
   "source": [
    "as per this we can observed the terget columns price(rs) is int data types"
   ]
  },
  {
   "cell_type": "markdown",
   "metadata": {},
   "source": [
    "# Making DataFrame for the Nominal Data"
   ]
  },
  {
   "cell_type": "code",
   "execution_count": 4,
   "metadata": {},
   "outputs": [],
   "source": [
    "df_visualization_nominal=df[['location','title','details','price(rs)','emi/month']].copy()"
   ]
  },
  {
   "cell_type": "code",
   "execution_count": 5,
   "metadata": {},
   "outputs": [
    {
     "data": {
      "text/plain": [
       "Index(['location', 'title', 'details', 'price(rs)', 'emi/month'], dtype='object')"
      ]
     },
     "execution_count": 5,
     "metadata": {},
     "output_type": "execute_result"
    }
   ],
   "source": [
    "df_visualization_nominal.columns"
   ]
  },
  {
   "cell_type": "markdown",
   "metadata": {},
   "source": [
    "# Visualization of the Data:¶"
   ]
  },
  {
   "cell_type": "code",
   "execution_count": 6,
   "metadata": {},
   "outputs": [
    {
     "name": "stdout",
     "output_type": "stream",
     "text": [
      "Delhi         40\n",
      "Gurgaon       20\n",
      "Lucknow       20\n",
      "Jaipur        20\n",
      "Indore        20\n",
      "Pune          20\n",
      "Faridabad     20\n",
      "Chennai       20\n",
      "Kolkata       20\n",
      "Chandigarh    20\n",
      "Bangalore     20\n",
      "Nasik         20\n",
      "Ghaziabad     20\n",
      "Noida         20\n",
      "Hyderbad      20\n",
      "Panipat       20\n",
      "Rajkot        20\n",
      "Vadodara      20\n",
      "Ludhiana      20\n",
      "Mumbai        20\n",
      "Meerut        20\n",
      "Patna         20\n",
      "Cochin        20\n",
      "Mysore        19\n",
      "Bhopal        15\n",
      "Name: location, dtype: int64\n"
     ]
    },
    {
     "data": {
      "image/png": "[encoded data removed]",
      "text/plain": [
       "<Figure size 432x288 with 1 Axes>"
      ]
     },
     "metadata": {
      "needs_background": "light"
     },
     "output_type": "display_data"
    }
   ],
   "source": [
    "import seaborn as sns\n",
    "ax = sns.countplot(x=\"location\", data=df_visualization_nominal)\n",
    "print(df_visualization_nominal[\"location\"].value_counts())"
   ]
  },
  {
   "cell_type": "markdown",
   "metadata": {},
   "source": [
    "we have total 25 location and maximum data is in Delhi"
   ]
  },
  {
   "cell_type": "code",
   "execution_count": 7,
   "metadata": {},
   "outputs": [
    {
     "name": "stdout",
     "output_type": "stream",
     "text": [
      "2016 Maruti Vitara Brezza        16\n",
      "2018 Maruti Vitara Brezza        13\n",
      "2016 Hyundai Creta               13\n",
      "2015 Hyundai Creta               10\n",
      "2017 Maruti Swift                10\n",
      "                                 ..\n",
      "2016 Hyundai Creta\\n              1\n",
      "2016 Hyundai Tucson New           1\n",
      "2017 Hyundai New Elantra          1\n",
      "2017 Toyota Innova Crysta\\n\\n     1\n",
      "2020 Hyundai AURA                 1\n",
      "Name: title, Length: 215, dtype: int64\n"
     ]
    },
    {
     "data": {
      "image/png": "[encoded data removed]",
      "text/plain": [
       "<Figure size 432x288 with 1 Axes>"
      ]
     },
     "metadata": {
      "needs_background": "light"
     },
     "output_type": "display_data"
    }
   ],
   "source": [
    "ax = sns.countplot(x=\"title\", data=df_visualization_nominal)\n",
    "print(df_visualization_nominal[\"title\"].value_counts())"
   ]
  },
  {
   "cell_type": "markdown",
   "metadata": {},
   "source": [
    "We have total 215 different types of car"
   ]
  },
  {
   "cell_type": "markdown",
   "metadata": {},
   "source": [
    "# Making dataframe of the ordinal data"
   ]
  },
  {
   "cell_type": "code",
   "execution_count": 8,
   "metadata": {},
   "outputs": [],
   "source": [
    "df_visualization_ordinal=df[[\"price(rs)\",\"emi/month\"]].copy()"
   ]
  },
  {
   "cell_type": "code",
   "execution_count": 9,
   "metadata": {},
   "outputs": [
    {
     "data": {
      "text/plain": [
       "<seaborn.axisgrid.FacetGrid at 0x11c76b37f40>"
      ]
     },
     "execution_count": 9,
     "metadata": {},
     "output_type": "execute_result"
    },
    {
     "data": {
      "image/png": "[encoded data removed]",
      "text/plain": [
       "<Figure size 360x360 with 1 Axes>"
      ]
     },
     "metadata": {
      "needs_background": "light"
     },
     "output_type": "display_data"
    }
   ],
   "source": [
    "sns.catplot(x=\"price(rs)\", y=\"emi/month\", data=df)"
   ]
  },
  {
   "cell_type": "code",
   "execution_count": 10,
   "metadata": {},
   "outputs": [
    {
     "data": {
      "text/plain": [
       "<AxesSubplot:xlabel='emi/month', ylabel='price(rs)'>"
      ]
     },
     "execution_count": 10,
     "metadata": {},
     "output_type": "execute_result"
    },
    {
     "data": {
      "image/png": "[encoded data removed]",
      "text/plain": [
       "<Figure size 432x288 with 1 Axes>"
      ]
     },
     "metadata": {
      "needs_background": "light"
     },
     "output_type": "display_data"
    }
   ],
   "source": [
    "sns.regplot(x=\"emi/month\",y=\"price(rs)\",data=df)"
   ]
  },
  {
   "cell_type": "code",
   "execution_count": 11,
   "metadata": {},
   "outputs": [
    {
     "data": {
      "text/plain": [
       "<AxesSubplot:xlabel='location', ylabel='price(rs)'>"
      ]
     },
     "execution_count": 11,
     "metadata": {},
     "output_type": "execute_result"
    },
    {
     "data": {
      "image/png": "[encoded data removed]",
      "text/plain": [
       "<Figure size 432x288 with 1 Axes>"
      ]
     },
     "metadata": {
      "needs_background": "light"
     },
     "output_type": "display_data"
    }
   ],
   "source": [
    "sns.scatterplot(x=\"location\",y=\"price(rs)\",data=df)"
   ]
  },
  {
   "cell_type": "code",
   "execution_count": 12,
   "metadata": {},
   "outputs": [
    {
     "data": {
      "text/plain": [
       "<AxesSubplot:xlabel='title', ylabel='price(rs)'>"
      ]
     },
     "execution_count": 12,
     "metadata": {},
     "output_type": "execute_result"
    },
    {
     "data": {
      "image/png": "[encoded data removed]",
      "text/plain": [
       "<Figure size 432x288 with 1 Axes>"
      ]
     },
     "metadata": {
      "needs_background": "light"
     },
     "output_type": "display_data"
    }
   ],
   "source": [
    "sns.scatterplot(x=\"title\",y=\"price(rs)\",data=df)"
   ]
  },
  {
   "cell_type": "code",
   "execution_count": 13,
   "metadata": {},
   "outputs": [
    {
     "data": {
      "text/plain": [
       "<seaborn.axisgrid.FacetGrid at 0x11c706cc250>"
      ]
     },
     "execution_count": 13,
     "metadata": {},
     "output_type": "execute_result"
    },
    {
     "data": {
      "image/png": "[encoded data removed]",
      "text/plain": [
       "<Figure size 360x360 with 1 Axes>"
      ]
     },
     "metadata": {
      "needs_background": "light"
     },
     "output_type": "display_data"
    }
   ],
   "source": [
    "sns.lmplot(x='emi/month',y='price(rs)',data=df)"
   ]
  },
  {
   "cell_type": "code",
   "execution_count": 14,
   "metadata": {},
   "outputs": [
    {
     "data": {
      "text/html": [
       "<div>\n",
       "<style scoped>\n",
       "    .dataframe tbody tr th:only-of-type {\n",
       "        vertical-align: middle;\n",
       "    }\n",
       "\n",
       "    .dataframe tbody tr th {\n",
       "        vertical-align: top;\n",
       "    }\n",
       "\n",
       "    .dataframe thead th {\n",
       "        text-align: right;\n",
       "    }\n",
       "</style>\n",
       "<table border=\"1\" class=\"dataframe\">\n",
       "  <thead>\n",
       "    <tr style=\"text-align: right;\">\n",
       "      <th></th>\n",
       "      <th>price(rs)</th>\n",
       "      <th>emi/month</th>\n",
       "    </tr>\n",
       "  </thead>\n",
       "  <tbody>\n",
       "    <tr>\n",
       "      <th>count</th>\n",
       "      <td>5.140000e+02</td>\n",
       "      <td>514.000000</td>\n",
       "    </tr>\n",
       "    <tr>\n",
       "      <th>mean</th>\n",
       "      <td>6.480348e+05</td>\n",
       "      <td>14577.095331</td>\n",
       "    </tr>\n",
       "    <tr>\n",
       "      <th>std</th>\n",
       "      <td>3.166066e+05</td>\n",
       "      <td>7367.482775</td>\n",
       "    </tr>\n",
       "    <tr>\n",
       "      <th>min</th>\n",
       "      <td>1.327990e+05</td>\n",
       "      <td>2954.000000</td>\n",
       "    </tr>\n",
       "    <tr>\n",
       "      <th>25%</th>\n",
       "      <td>4.515740e+05</td>\n",
       "      <td>10053.250000</td>\n",
       "    </tr>\n",
       "    <tr>\n",
       "      <th>50%</th>\n",
       "      <td>5.966990e+05</td>\n",
       "      <td>13331.000000</td>\n",
       "    </tr>\n",
       "    <tr>\n",
       "      <th>75%</th>\n",
       "      <td>7.774990e+05</td>\n",
       "      <td>17391.250000</td>\n",
       "    </tr>\n",
       "    <tr>\n",
       "      <th>max</th>\n",
       "      <td>2.322099e+06</td>\n",
       "      <td>51654.000000</td>\n",
       "    </tr>\n",
       "  </tbody>\n",
       "</table>\n",
       "</div>"
      ],
      "text/plain": [
       "          price(rs)     emi/month\n",
       "count  5.140000e+02    514.000000\n",
       "mean   6.480348e+05  14577.095331\n",
       "std    3.166066e+05   7367.482775\n",
       "min    1.327990e+05   2954.000000\n",
       "25%    4.515740e+05  10053.250000\n",
       "50%    5.966990e+05  13331.000000\n",
       "75%    7.774990e+05  17391.250000\n",
       "max    2.322099e+06  51654.000000"
      ]
     },
     "execution_count": 14,
     "metadata": {},
     "output_type": "execute_result"
    }
   ],
   "source": [
    "df.describe()"
   ]
  },
  {
   "cell_type": "markdown",
   "metadata": {},
   "source": [
    "# converting object to float"
   ]
  },
  {
   "cell_type": "code",
   "execution_count": 145,
   "metadata": {},
   "outputs": [],
   "source": [
    "import sklearn\n",
    "from sklearn.preprocessing import OrdinalEncoder\n",
    "enc=OrdinalEncoder()"
   ]
  },
  {
   "cell_type": "code",
   "execution_count": 146,
   "metadata": {},
   "outputs": [],
   "source": [
    "for i in df.columns:\n",
    "    if df[i].dtypes==\"object\":\n",
    "        df[i]=enc.fit_transform(df[i].values.reshape(-1,1))"
   ]
  },
  {
   "cell_type": "code",
   "execution_count": 147,
   "metadata": {},
   "outputs": [
    {
     "data": {
      "text/plain": [
       "location     float64\n",
       "title        float64\n",
       "details      float64\n",
       "price(rs)      int64\n",
       "emi/month      int64\n",
       "dtype: object"
      ]
     },
     "execution_count": 147,
     "metadata": {},
     "output_type": "execute_result"
    }
   ],
   "source": [
    "df.dtypes"
   ]
  },
  {
   "cell_type": "code",
   "execution_count": 148,
   "metadata": {},
   "outputs": [
    {
     "data": {
      "text/html": [
       "<div>\n",
       "<style scoped>\n",
       "    .dataframe tbody tr th:only-of-type {\n",
       "        vertical-align: middle;\n",
       "    }\n",
       "\n",
       "    .dataframe tbody tr th {\n",
       "        vertical-align: top;\n",
       "    }\n",
       "\n",
       "    .dataframe thead th {\n",
       "        text-align: right;\n",
       "    }\n",
       "</style>\n",
       "<table border=\"1\" class=\"dataframe\">\n",
       "  <thead>\n",
       "    <tr style=\"text-align: right;\">\n",
       "      <th></th>\n",
       "      <th>location</th>\n",
       "      <th>title</th>\n",
       "      <th>details</th>\n",
       "      <th>price(rs)</th>\n",
       "      <th>emi/month</th>\n",
       "    </tr>\n",
       "  </thead>\n",
       "  <tbody>\n",
       "    <tr>\n",
       "      <th>count</th>\n",
       "      <td>514.000000</td>\n",
       "      <td>514.000000</td>\n",
       "      <td>514.000000</td>\n",
       "      <td>5.140000e+02</td>\n",
       "      <td>514.000000</td>\n",
       "    </tr>\n",
       "    <tr>\n",
       "      <th>mean</th>\n",
       "      <td>11.824903</td>\n",
       "      <td>111.986381</td>\n",
       "      <td>102.935798</td>\n",
       "      <td>6.480348e+05</td>\n",
       "      <td>14577.095331</td>\n",
       "    </tr>\n",
       "    <tr>\n",
       "      <th>std</th>\n",
       "      <td>7.164761</td>\n",
       "      <td>55.883283</td>\n",
       "      <td>49.568919</td>\n",
       "      <td>3.166066e+05</td>\n",
       "      <td>7367.482775</td>\n",
       "    </tr>\n",
       "    <tr>\n",
       "      <th>min</th>\n",
       "      <td>0.000000</td>\n",
       "      <td>0.000000</td>\n",
       "      <td>0.000000</td>\n",
       "      <td>1.327990e+05</td>\n",
       "      <td>2954.000000</td>\n",
       "    </tr>\n",
       "    <tr>\n",
       "      <th>25%</th>\n",
       "      <td>5.000000</td>\n",
       "      <td>65.000000</td>\n",
       "      <td>62.000000</td>\n",
       "      <td>4.515740e+05</td>\n",
       "      <td>10053.250000</td>\n",
       "    </tr>\n",
       "    <tr>\n",
       "      <th>50%</th>\n",
       "      <td>12.000000</td>\n",
       "      <td>114.000000</td>\n",
       "      <td>110.000000</td>\n",
       "      <td>5.966990e+05</td>\n",
       "      <td>13331.000000</td>\n",
       "    </tr>\n",
       "    <tr>\n",
       "      <th>75%</th>\n",
       "      <td>18.000000</td>\n",
       "      <td>158.750000</td>\n",
       "      <td>149.750000</td>\n",
       "      <td>7.774990e+05</td>\n",
       "      <td>17391.250000</td>\n",
       "    </tr>\n",
       "    <tr>\n",
       "      <th>max</th>\n",
       "      <td>24.000000</td>\n",
       "      <td>214.000000</td>\n",
       "      <td>180.000000</td>\n",
       "      <td>2.322099e+06</td>\n",
       "      <td>51654.000000</td>\n",
       "    </tr>\n",
       "  </tbody>\n",
       "</table>\n",
       "</div>"
      ],
      "text/plain": [
       "         location       title     details     price(rs)     emi/month\n",
       "count  514.000000  514.000000  514.000000  5.140000e+02    514.000000\n",
       "mean    11.824903  111.986381  102.935798  6.480348e+05  14577.095331\n",
       "std      7.164761   55.883283   49.568919  3.166066e+05   7367.482775\n",
       "min      0.000000    0.000000    0.000000  1.327990e+05   2954.000000\n",
       "25%      5.000000   65.000000   62.000000  4.515740e+05  10053.250000\n",
       "50%     12.000000  114.000000  110.000000  5.966990e+05  13331.000000\n",
       "75%     18.000000  158.750000  149.750000  7.774990e+05  17391.250000\n",
       "max     24.000000  214.000000  180.000000  2.322099e+06  51654.000000"
      ]
     },
     "execution_count": 148,
     "metadata": {},
     "output_type": "execute_result"
    }
   ],
   "source": [
    "df.describe()"
   ]
  },
  {
   "cell_type": "code",
   "execution_count": 149,
   "metadata": {},
   "outputs": [
    {
     "data": {
      "text/html": [
       "<div>\n",
       "<style scoped>\n",
       "    .dataframe tbody tr th:only-of-type {\n",
       "        vertical-align: middle;\n",
       "    }\n",
       "\n",
       "    .dataframe tbody tr th {\n",
       "        vertical-align: top;\n",
       "    }\n",
       "\n",
       "    .dataframe thead th {\n",
       "        text-align: right;\n",
       "    }\n",
       "</style>\n",
       "<table border=\"1\" class=\"dataframe\">\n",
       "  <thead>\n",
       "    <tr style=\"text-align: right;\">\n",
       "      <th></th>\n",
       "      <th>location</th>\n",
       "      <th>title</th>\n",
       "      <th>details</th>\n",
       "      <th>price(rs)</th>\n",
       "      <th>emi/month</th>\n",
       "    </tr>\n",
       "  </thead>\n",
       "  <tbody>\n",
       "    <tr>\n",
       "      <th>location</th>\n",
       "      <td>1.000000</td>\n",
       "      <td>0.024502</td>\n",
       "      <td>-0.056955</td>\n",
       "      <td>-0.012118</td>\n",
       "      <td>-0.027274</td>\n",
       "    </tr>\n",
       "    <tr>\n",
       "      <th>title</th>\n",
       "      <td>0.024502</td>\n",
       "      <td>1.000000</td>\n",
       "      <td>0.058777</td>\n",
       "      <td>0.243134</td>\n",
       "      <td>0.226859</td>\n",
       "    </tr>\n",
       "    <tr>\n",
       "      <th>details</th>\n",
       "      <td>-0.056955</td>\n",
       "      <td>0.058777</td>\n",
       "      <td>1.000000</td>\n",
       "      <td>-0.155556</td>\n",
       "      <td>-0.158424</td>\n",
       "    </tr>\n",
       "    <tr>\n",
       "      <th>price(rs)</th>\n",
       "      <td>-0.012118</td>\n",
       "      <td>0.243134</td>\n",
       "      <td>-0.155556</td>\n",
       "      <td>1.000000</td>\n",
       "      <td>0.930886</td>\n",
       "    </tr>\n",
       "    <tr>\n",
       "      <th>emi/month</th>\n",
       "      <td>-0.027274</td>\n",
       "      <td>0.226859</td>\n",
       "      <td>-0.158424</td>\n",
       "      <td>0.930886</td>\n",
       "      <td>1.000000</td>\n",
       "    </tr>\n",
       "  </tbody>\n",
       "</table>\n",
       "</div>"
      ],
      "text/plain": [
       "           location     title   details  price(rs)  emi/month\n",
       "location   1.000000  0.024502 -0.056955  -0.012118  -0.027274\n",
       "title      0.024502  1.000000  0.058777   0.243134   0.226859\n",
       "details   -0.056955  0.058777  1.000000  -0.155556  -0.158424\n",
       "price(rs) -0.012118  0.243134 -0.155556   1.000000   0.930886\n",
       "emi/month -0.027274  0.226859 -0.158424   0.930886   1.000000"
      ]
     },
     "execution_count": 149,
     "metadata": {},
     "output_type": "execute_result"
    }
   ],
   "source": [
    "df.corr()"
   ]
  },
  {
   "cell_type": "code",
   "execution_count": 150,
   "metadata": {},
   "outputs": [
    {
     "data": {
      "text/plain": [
       "location     0.071861\n",
       "title       -0.116609\n",
       "details     -0.381487\n",
       "price(rs)    2.267708\n",
       "emi/month    2.286806\n",
       "dtype: float64"
      ]
     },
     "execution_count": 150,
     "metadata": {},
     "output_type": "execute_result"
    }
   ],
   "source": [
    "df.skew()"
   ]
  },
  {
   "cell_type": "code",
   "execution_count": 21,
   "metadata": {},
   "outputs": [],
   "source": [
    "import numpy as np"
   ]
  },
  {
   "cell_type": "code",
   "execution_count": 152,
   "metadata": {},
   "outputs": [
    {
     "data": {
      "text/plain": [
       "location     0.071861\n",
       "title       -0.116609\n",
       "details     -0.381487\n",
       "price(rs)    1.150524\n",
       "emi/month    0.681836\n",
       "pric(rs)     1.150524\n",
       "dtype: float64"
      ]
     },
     "execution_count": 152,
     "metadata": {},
     "output_type": "execute_result"
    }
   ],
   "source": [
    "df['price(rs)']=np.sqrt(df['price(rs)'])\n",
    "df['emi/month']=np.sqrt(df['emi/month'])\n",
    "df.skew()"
   ]
  },
  {
   "cell_type": "code",
   "execution_count": 153,
   "metadata": {},
   "outputs": [],
   "source": [
    "import scipy\n",
    "from scipy.stats import zscore"
   ]
  },
  {
   "cell_type": "code",
   "execution_count": 154,
   "metadata": {},
   "outputs": [
    {
     "name": "stdout",
     "output_type": "stream",
     "text": [
      "(array([  8,   8,   8,  17,  17,  25,  25,  25,  31,  31, 260, 260, 265,\n",
      "       265, 265, 320, 375, 375, 375, 400, 400, 400, 407, 407, 446, 446,\n",
      "       446, 453, 453], dtype=int64), array([3, 4, 5, 3, 5, 3, 4, 5, 3, 5, 3, 5, 3, 4, 5, 4, 3, 4, 5, 3, 4, 5,\n",
      "       3, 5, 3, 4, 5, 3, 5], dtype=int64))\n"
     ]
    }
   ],
   "source": [
    "dfzscore=np.abs(zscore(df))\n",
    "print(np.where(dfzscore>3))"
   ]
  },
  {
   "cell_type": "code",
   "execution_count": 155,
   "metadata": {},
   "outputs": [],
   "source": [
    "dfnew=df[(dfzscore<3).all(axis=1)]"
   ]
  },
  {
   "cell_type": "code",
   "execution_count": 156,
   "metadata": {},
   "outputs": [
    {
     "name": "stdout",
     "output_type": "stream",
     "text": [
      "dfnew.shape= (502, 6)\n"
     ]
    }
   ],
   "source": [
    "print('dfnew.shape=',dfnew.shape)"
   ]
  },
  {
   "cell_type": "code",
   "execution_count": 157,
   "metadata": {},
   "outputs": [
    {
     "data": {
      "text/html": [
       "<div>\n",
       "<style scoped>\n",
       "    .dataframe tbody tr th:only-of-type {\n",
       "        vertical-align: middle;\n",
       "    }\n",
       "\n",
       "    .dataframe tbody tr th {\n",
       "        vertical-align: top;\n",
       "    }\n",
       "\n",
       "    .dataframe thead th {\n",
       "        text-align: right;\n",
       "    }\n",
       "</style>\n",
       "<table border=\"1\" class=\"dataframe\">\n",
       "  <thead>\n",
       "    <tr style=\"text-align: right;\">\n",
       "      <th></th>\n",
       "      <th>location</th>\n",
       "      <th>title</th>\n",
       "      <th>details</th>\n",
       "      <th>price(rs)</th>\n",
       "      <th>emi/month</th>\n",
       "      <th>pric(rs)</th>\n",
       "    </tr>\n",
       "  </thead>\n",
       "  <tbody>\n",
       "    <tr>\n",
       "      <th>location</th>\n",
       "      <td>1.000000</td>\n",
       "      <td>0.024502</td>\n",
       "      <td>-0.056955</td>\n",
       "      <td>-0.009257</td>\n",
       "      <td>-0.017002</td>\n",
       "      <td>-0.009257</td>\n",
       "    </tr>\n",
       "    <tr>\n",
       "      <th>title</th>\n",
       "      <td>0.024502</td>\n",
       "      <td>1.000000</td>\n",
       "      <td>0.058777</td>\n",
       "      <td>0.308500</td>\n",
       "      <td>0.326104</td>\n",
       "      <td>0.308500</td>\n",
       "    </tr>\n",
       "    <tr>\n",
       "      <th>details</th>\n",
       "      <td>-0.056955</td>\n",
       "      <td>0.058777</td>\n",
       "      <td>1.000000</td>\n",
       "      <td>-0.153556</td>\n",
       "      <td>-0.149963</td>\n",
       "      <td>-0.153556</td>\n",
       "    </tr>\n",
       "    <tr>\n",
       "      <th>price(rs)</th>\n",
       "      <td>-0.009257</td>\n",
       "      <td>0.308500</td>\n",
       "      <td>-0.153556</td>\n",
       "      <td>1.000000</td>\n",
       "      <td>0.940252</td>\n",
       "      <td>1.000000</td>\n",
       "    </tr>\n",
       "    <tr>\n",
       "      <th>emi/month</th>\n",
       "      <td>-0.017002</td>\n",
       "      <td>0.326104</td>\n",
       "      <td>-0.149963</td>\n",
       "      <td>0.940252</td>\n",
       "      <td>1.000000</td>\n",
       "      <td>0.940252</td>\n",
       "    </tr>\n",
       "    <tr>\n",
       "      <th>pric(rs)</th>\n",
       "      <td>-0.009257</td>\n",
       "      <td>0.308500</td>\n",
       "      <td>-0.153556</td>\n",
       "      <td>1.000000</td>\n",
       "      <td>0.940252</td>\n",
       "      <td>1.000000</td>\n",
       "    </tr>\n",
       "  </tbody>\n",
       "</table>\n",
       "</div>"
      ],
      "text/plain": [
       "           location     title   details  price(rs)  emi/month  pric(rs)\n",
       "location   1.000000  0.024502 -0.056955  -0.009257  -0.017002 -0.009257\n",
       "title      0.024502  1.000000  0.058777   0.308500   0.326104  0.308500\n",
       "details   -0.056955  0.058777  1.000000  -0.153556  -0.149963 -0.153556\n",
       "price(rs) -0.009257  0.308500 -0.153556   1.000000   0.940252  1.000000\n",
       "emi/month -0.017002  0.326104 -0.149963   0.940252   1.000000  0.940252\n",
       "pric(rs)  -0.009257  0.308500 -0.153556   1.000000   0.940252  1.000000"
      ]
     },
     "execution_count": 157,
     "metadata": {},
     "output_type": "execute_result"
    }
   ],
   "source": [
    "df.corr()"
   ]
  },
  {
   "cell_type": "code",
   "execution_count": 158,
   "metadata": {},
   "outputs": [
    {
     "data": {
      "text/plain": [
       "<AxesSubplot:>"
      ]
     },
     "execution_count": 158,
     "metadata": {},
     "output_type": "execute_result"
    },
    {
     "data": {
      "image/png": "[encoded data removed]",
      "text/plain": [
       "<Figure size 432x288 with 2 Axes>"
      ]
     },
     "metadata": {
      "needs_background": "light"
     },
     "output_type": "display_data"
    }
   ],
   "source": [
    "sns.heatmap(df.corr(),cmap='Blues',annot=True)"
   ]
  },
  {
   "cell_type": "code",
   "execution_count": 159,
   "metadata": {},
   "outputs": [],
   "source": [
    "import sklearn\n",
    "from sklearn.preprocessing import LabelEncoder\n",
    "from sklearn.preprocessing import StandardScaler\n",
    "from sklearn.model_selection import train_test_split\n",
    "from sklearn.linear_model import LinearRegression\n",
    "from sklearn.metrics import mean_squared_error,mean_absolute_error,r2_score\n",
    "import warnings\n",
    "warnings.filterwarnings('ignore')"
   ]
  },
  {
   "cell_type": "code",
   "execution_count": 160,
   "metadata": {},
   "outputs": [],
   "source": [
    "from statsmodels.stats.outliers_influence import variance_inflation_factor"
   ]
  },
  {
   "cell_type": "code",
   "execution_count": 161,
   "metadata": {},
   "outputs": [
    {
     "data": {
      "text/html": [
       "<div>\n",
       "<style scoped>\n",
       "    .dataframe tbody tr th:only-of-type {\n",
       "        vertical-align: middle;\n",
       "    }\n",
       "\n",
       "    .dataframe tbody tr th {\n",
       "        vertical-align: top;\n",
       "    }\n",
       "\n",
       "    .dataframe thead th {\n",
       "        text-align: right;\n",
       "    }\n",
       "</style>\n",
       "<table border=\"1\" class=\"dataframe\">\n",
       "  <thead>\n",
       "    <tr style=\"text-align: right;\">\n",
       "      <th></th>\n",
       "      <th>location</th>\n",
       "      <th>title</th>\n",
       "      <th>details</th>\n",
       "      <th>price(rs)</th>\n",
       "      <th>emi/month</th>\n",
       "    </tr>\n",
       "  </thead>\n",
       "  <tbody>\n",
       "    <tr>\n",
       "      <th>0</th>\n",
       "      <td>5.0</td>\n",
       "      <td>17.0</td>\n",
       "      <td>141.0</td>\n",
       "      <td>560.802104</td>\n",
       "      <td>9.145605</td>\n",
       "    </tr>\n",
       "    <tr>\n",
       "      <th>1</th>\n",
       "      <td>5.0</td>\n",
       "      <td>48.0</td>\n",
       "      <td>56.0</td>\n",
       "      <td>841.723826</td>\n",
       "      <td>11.204412</td>\n",
       "    </tr>\n",
       "    <tr>\n",
       "      <th>2</th>\n",
       "      <td>5.0</td>\n",
       "      <td>139.0</td>\n",
       "      <td>134.0</td>\n",
       "      <td>1225.030204</td>\n",
       "      <td>13.516931</td>\n",
       "    </tr>\n",
       "    <tr>\n",
       "      <th>3</th>\n",
       "      <td>5.0</td>\n",
       "      <td>54.0</td>\n",
       "      <td>40.0</td>\n",
       "      <td>895.878898</td>\n",
       "      <td>11.559201</td>\n",
       "    </tr>\n",
       "    <tr>\n",
       "      <th>4</th>\n",
       "      <td>5.0</td>\n",
       "      <td>6.0</td>\n",
       "      <td>122.0</td>\n",
       "      <td>587.621477</td>\n",
       "      <td>9.361694</td>\n",
       "    </tr>\n",
       "    <tr>\n",
       "      <th>...</th>\n",
       "      <td>...</td>\n",
       "      <td>...</td>\n",
       "      <td>...</td>\n",
       "      <td>...</td>\n",
       "      <td>...</td>\n",
       "    </tr>\n",
       "    <tr>\n",
       "      <th>509</th>\n",
       "      <td>18.0</td>\n",
       "      <td>117.0</td>\n",
       "      <td>50.0</td>\n",
       "      <td>800.998752</td>\n",
       "      <td>10.930026</td>\n",
       "    </tr>\n",
       "    <tr>\n",
       "      <th>510</th>\n",
       "      <td>18.0</td>\n",
       "      <td>26.0</td>\n",
       "      <td>99.0</td>\n",
       "      <td>595.985738</td>\n",
       "      <td>9.428020</td>\n",
       "    </tr>\n",
       "    <tr>\n",
       "      <th>511</th>\n",
       "      <td>18.0</td>\n",
       "      <td>93.0</td>\n",
       "      <td>170.0</td>\n",
       "      <td>755.181435</td>\n",
       "      <td>10.612829</td>\n",
       "    </tr>\n",
       "    <tr>\n",
       "      <th>512</th>\n",
       "      <td>18.0</td>\n",
       "      <td>20.0</td>\n",
       "      <td>1.0</td>\n",
       "      <td>643.893625</td>\n",
       "      <td>9.799819</td>\n",
       "    </tr>\n",
       "    <tr>\n",
       "      <th>513</th>\n",
       "      <td>18.0</td>\n",
       "      <td>27.0</td>\n",
       "      <td>93.0</td>\n",
       "      <td>463.787667</td>\n",
       "      <td>8.317072</td>\n",
       "    </tr>\n",
       "  </tbody>\n",
       "</table>\n",
       "<p>514 rows × 5 columns</p>\n",
       "</div>"
      ],
      "text/plain": [
       "     location  title  details    price(rs)  emi/month\n",
       "0         5.0   17.0    141.0   560.802104   9.145605\n",
       "1         5.0   48.0     56.0   841.723826  11.204412\n",
       "2         5.0  139.0    134.0  1225.030204  13.516931\n",
       "3         5.0   54.0     40.0   895.878898  11.559201\n",
       "4         5.0    6.0    122.0   587.621477   9.361694\n",
       "..        ...    ...      ...          ...        ...\n",
       "509      18.0  117.0     50.0   800.998752  10.930026\n",
       "510      18.0   26.0     99.0   595.985738   9.428020\n",
       "511      18.0   93.0    170.0   755.181435  10.612829\n",
       "512      18.0   20.0      1.0   643.893625   9.799819\n",
       "513      18.0   27.0     93.0   463.787667   8.317072\n",
       "\n",
       "[514 rows x 5 columns]"
      ]
     },
     "execution_count": 161,
     "metadata": {},
     "output_type": "execute_result"
    }
   ],
   "source": [
    "x=df.iloc[:,0:-1]\n",
    "x"
   ]
  },
  {
   "cell_type": "code",
   "execution_count": 162,
   "metadata": {},
   "outputs": [
    {
     "data": {
      "text/plain": [
       "0       560.802104\n",
       "1       841.723826\n",
       "2      1225.030204\n",
       "3       895.878898\n",
       "4       587.621477\n",
       "          ...     \n",
       "509     800.998752\n",
       "510     595.985738\n",
       "511     755.181435\n",
       "512     643.893625\n",
       "513     463.787667\n",
       "Name: pric(rs), Length: 514, dtype: float64"
      ]
     },
     "execution_count": 162,
     "metadata": {},
     "output_type": "execute_result"
    }
   ],
   "source": [
    "y=df.iloc[:,-1]\n",
    "y"
   ]
  },
  {
   "cell_type": "code",
   "execution_count": 163,
   "metadata": {},
   "outputs": [],
   "source": [
    "def vif_calc():\n",
    "    vif=pd.DataFrame()\n",
    "    vif['VIF Factor']=[variance_inflation_factor(x.values,i) for i in range(x.shape[1])]\n",
    "    vif['features']=x.columns\n",
    "    print(vif)"
   ]
  },
  {
   "cell_type": "code",
   "execution_count": 164,
   "metadata": {},
   "outputs": [
    {
     "name": "stdout",
     "output_type": "stream",
     "text": [
      "   VIF Factor   features\n",
      "0    3.667228   location\n",
      "1    5.661499      title\n",
      "2    5.286722    details\n",
      "3   78.187199  price(rs)\n",
      "4   99.667424  emi/month\n"
     ]
    }
   ],
   "source": [
    "vif_calc()"
   ]
  },
  {
   "cell_type": "code",
   "execution_count": 165,
   "metadata": {},
   "outputs": [
    {
     "data": {
      "text/plain": [
       "array([[-0.95349324, -1.70138385,  0.76865271, -1.2817685 , -1.35848779],\n",
       "       [-0.95349324, -1.14611584, -0.94780202,  0.31959021,  0.35229579],\n",
       "       [-0.95349324,  0.48386447,  0.62729761,  2.50457969,  2.27390429],\n",
       "       ...,\n",
       "       [ 0.86271025, -0.34008162,  1.35426667, -0.17373373, -0.13928484],\n",
       "       [ 0.86271025, -1.64764824, -2.0584492 , -0.80811581, -0.81486303],\n",
       "       [ 0.86271025, -1.52226514, -0.20063938, -1.83478702, -2.04696449]])"
      ]
     },
     "execution_count": 165,
     "metadata": {},
     "output_type": "execute_result"
    }
   ],
   "source": [
    "scale=StandardScaler()\n",
    "x=scale.fit_transform(x)\n",
    "x"
   ]
  },
  {
   "cell_type": "code",
   "execution_count": 166,
   "metadata": {},
   "outputs": [],
   "source": [
    "xtrain,xtest,ytrain,ytest=train_test_split(x,y,test_size=0.30,random_state=55)"
   ]
  },
  {
   "cell_type": "code",
   "execution_count": 167,
   "metadata": {},
   "outputs": [
    {
     "data": {
      "text/plain": [
       "array([8.46945821e-15, 8.88178420e-15, 6.39488462e-14, 1.75427104e+02,\n",
       "       6.06181771e-14])"
      ]
     },
     "execution_count": 167,
     "metadata": {},
     "output_type": "execute_result"
    }
   ],
   "source": [
    "lr=LinearRegression()\n",
    "lr.fit(xtrain,ytrain)\n",
    "lr.coef_"
   ]
  },
  {
   "cell_type": "code",
   "execution_count": 168,
   "metadata": {},
   "outputs": [],
   "source": [
    "features=['location','title','details','emi/month']"
   ]
  },
  {
   "cell_type": "code",
   "execution_count": 169,
   "metadata": {},
   "outputs": [
    {
     "data": {
      "text/plain": [
       "[(8.469458213394338e-15, 'location'),\n",
       " (8.881784197001252e-15, 'title'),\n",
       " (6.394884621840902e-14, 'details'),\n",
       " (175.42710449994695, 'emi/month')]"
      ]
     },
     "execution_count": 169,
     "metadata": {},
     "output_type": "execute_result"
    }
   ],
   "source": [
    "list(zip(lr.coef_,features))"
   ]
  },
  {
   "cell_type": "code",
   "execution_count": 170,
   "metadata": {},
   "outputs": [
    {
     "data": {
      "text/plain": [
       "785.6590409790587"
      ]
     },
     "execution_count": 170,
     "metadata": {},
     "output_type": "execute_result"
    }
   ],
   "source": [
    "lr.intercept_"
   ]
  },
  {
   "cell_type": "code",
   "execution_count": 171,
   "metadata": {},
   "outputs": [
    {
     "data": {
      "text/plain": [
       "1.0"
      ]
     },
     "execution_count": 171,
     "metadata": {},
     "output_type": "execute_result"
    }
   ],
   "source": [
    "lr.score(xtrain,ytrain)"
   ]
  },
  {
   "cell_type": "code",
   "execution_count": 172,
   "metadata": {},
   "outputs": [
    {
     "data": {
      "text/plain": [
       "array([ 952.73238635,  796.11494145,  885.32423439,  613.51365103,\n",
       "        557.85213095,  531.22405819,  817.43440104,  714.70203582,\n",
       "        664.90525641,  817.98471868,  643.89362475,  724.22303195,\n",
       "        953.46683214,  677.93731274,  764.0674054 ,  873.78429833,\n",
       "        547.4477144 ,  928.70824267,  774.20862821,  805.23226463,\n",
       "        781.47232836, 1523.8434959 ,  865.67834673,  501.29731697,\n",
       "        686.65784784, 1009.15756946,  883.91119463,  893.4757971 ,\n",
       "        498.99799599,  795.86368179,  518.74753011,  931.98658789,\n",
       "        564.09130467,  898.44254129, 1075.5459079 ,  841.72382644,\n",
       "        636.15957118,  774.01485774,  659.3929026 ,  587.6214768 ,\n",
       "        572.27528341,  767.13688479,  865.67834673,  782.04795249,\n",
       "        867.69752794,  681.32151001,  831.38378623,  686.65784784,\n",
       "       1210.70186256,  937.17607737,  602.7428971 ,  874.47069705,\n",
       "        890.50491296,  804.73536023,  364.41597111,  949.3676843 ,\n",
       "       1083.46619698, 1295.10578718,  619.91854304,  711.47663349,\n",
       "        626.81656009,  749.33236951,  643.58293949,  724.91309824,\n",
       "        906.7518955 ,  531.12992761,  792.14834469, 1106.7967293 ,\n",
       "        764.85227332,  755.18143515,  854.39978933,  731.36789648,\n",
       "        715.82050823,  909.77964365,  874.47069705,  898.44254129,\n",
       "        871.66449968,  716.44888164,  764.98300635,  826.67950259,\n",
       "        718.05222651,  821.21799785,  738.91745141,  527.73004463,\n",
       "        730.13628865,  826.67950259,  629.52283517,  730.13628865,\n",
       "        953.72899715,  953.46683214,  811.66433949,  921.1400545 ,\n",
       "        604.39970218,  470.74302969,  952.73238635,  635.29441993,\n",
       "        934.1300766 ,  741.68659149,  949.15699439,  953.46683214,\n",
       "        821.21799785,  890.39261003,  879.99943182,  621.93166827,\n",
       "        891.40282701,  910.32906138,  768.76459336,  804.92173533,\n",
       "        909.06490417,  635.29441993,  737.69844788,  910.32906138,\n",
       "        713.51173782,  583.77992429,  767.0717046 ,  850.7637745 ,\n",
       "        841.36733951,  899.11011561,  627.77304816,  802.30854414,\n",
       "        710.98452866,  719.92985769,  882.15588192,  723.73959405,\n",
       "       1225.03020371,  628.09155384,  810.55474831,  879.99943182,\n",
       "        610.98199646, 1523.8434959 ,  555.87678491,  604.39970218,\n",
       "        891.34673388,  606.79403425,  865.67834673,  641.32597016,\n",
       "        984.73295873,  733.96117064, 1027.81272613,  832.16524801,\n",
       "        828.49200358, 1523.8434959 ,  910.32906138,  729.51970501,\n",
       "        899.11011561, 1432.65452919,  617.57509665,  831.38378623,\n",
       "        725.05103269,  691.4470334 ,  667.75669222,  785.55649065,\n",
       "        811.66433949,  647.61022228,  681.17472061])"
      ]
     },
     "execution_count": 172,
     "metadata": {},
     "output_type": "execute_result"
    }
   ],
   "source": [
    "pred=lr.predict(xtest)\n",
    "pred"
   ]
  },
  {
   "cell_type": "code",
   "execution_count": 173,
   "metadata": {},
   "outputs": [
    {
     "name": "stdout",
     "output_type": "stream",
     "text": [
      "Predicted values [ 952.73238635  796.11494145  885.32423439  613.51365103  557.85213095\n",
      "  531.22405819  817.43440104  714.70203582  664.90525641  817.98471868\n",
      "  643.89362475  724.22303195  953.46683214  677.93731274  764.0674054\n",
      "  873.78429833  547.4477144   928.70824267  774.20862821  805.23226463\n",
      "  781.47232836 1523.8434959   865.67834673  501.29731697  686.65784784\n",
      " 1009.15756946  883.91119463  893.4757971   498.99799599  795.86368179\n",
      "  518.74753011  931.98658789  564.09130467  898.44254129 1075.5459079\n",
      "  841.72382644  636.15957118  774.01485774  659.3929026   587.6214768\n",
      "  572.27528341  767.13688479  865.67834673  782.04795249  867.69752794\n",
      "  681.32151001  831.38378623  686.65784784 1210.70186256  937.17607737\n",
      "  602.7428971   874.47069705  890.50491296  804.73536023  364.41597111\n",
      "  949.3676843  1083.46619698 1295.10578718  619.91854304  711.47663349\n",
      "  626.81656009  749.33236951  643.58293949  724.91309824  906.7518955\n",
      "  531.12992761  792.14834469 1106.7967293   764.85227332  755.18143515\n",
      "  854.39978933  731.36789648  715.82050823  909.77964365  874.47069705\n",
      "  898.44254129  871.66449968  716.44888164  764.98300635  826.67950259\n",
      "  718.05222651  821.21799785  738.91745141  527.73004463  730.13628865\n",
      "  826.67950259  629.52283517  730.13628865  953.72899715  953.46683214\n",
      "  811.66433949  921.1400545   604.39970218  470.74302969  952.73238635\n",
      "  635.29441993  934.1300766   741.68659149  949.15699439  953.46683214\n",
      "  821.21799785  890.39261003  879.99943182  621.93166827  891.40282701\n",
      "  910.32906138  768.76459336  804.92173533  909.06490417  635.29441993\n",
      "  737.69844788  910.32906138  713.51173782  583.77992429  767.0717046\n",
      "  850.7637745   841.36733951  899.11011561  627.77304816  802.30854414\n",
      "  710.98452866  719.92985769  882.15588192  723.73959405 1225.03020371\n",
      "  628.09155384  810.55474831  879.99943182  610.98199646 1523.8434959\n",
      "  555.87678491  604.39970218  891.34673388  606.79403425  865.67834673\n",
      "  641.32597016  984.73295873  733.96117064 1027.81272613  832.16524801\n",
      "  828.49200358 1523.8434959   910.32906138  729.51970501  899.11011561\n",
      " 1432.65452919  617.57509665  831.38378623  725.05103269  691.4470334\n",
      "  667.75669222  785.55649065  811.66433949  647.61022228  681.17472061]\n"
     ]
    }
   ],
   "source": [
    "print('Predicted values',pred)"
   ]
  },
  {
   "cell_type": "code",
   "execution_count": 174,
   "metadata": {},
   "outputs": [
    {
     "data": {
      "text/plain": [
       "1.0"
      ]
     },
     "execution_count": 174,
     "metadata": {},
     "output_type": "execute_result"
    }
   ],
   "source": [
    "lr.score(xtest,ytest)"
   ]
  },
  {
   "cell_type": "code",
   "execution_count": 175,
   "metadata": {},
   "outputs": [
    {
     "name": "stdout",
     "output_type": "stream",
     "text": [
      "Mean absolute error:: 1.1552049639454532e-13\n",
      "Mean squared error:: 2.3577149012033123e-26\n",
      "Root mean square:: 1.535485233144009e-13\n"
     ]
    }
   ],
   "source": [
    "print('Mean absolute error::',mean_absolute_error(ytest,pred)) \n",
    "print('Mean squared error::',mean_squared_error(ytest,pred))\n",
    "print('Root mean square::',np.sqrt(mean_squared_error(ytest,pred)))"
   ]
  },
  {
   "cell_type": "code",
   "execution_count": 176,
   "metadata": {},
   "outputs": [
    {
     "name": "stdout",
     "output_type": "stream",
     "text": [
      "R2 score:: 1.0\n"
     ]
    }
   ],
   "source": [
    "print('R2 score::',r2_score(ytest,pred))"
   ]
  },
  {
   "cell_type": "markdown",
   "metadata": {},
   "source": [
    "# Separating the columns into features and target:"
   ]
  },
  {
   "cell_type": "code",
   "execution_count": 177,
   "metadata": {},
   "outputs": [],
   "source": [
    "features=df.drop(\"price(rs)\",axis=1)\n",
    "target=df[\"price(rs)\"]"
   ]
  },
  {
   "cell_type": "code",
   "execution_count": 178,
   "metadata": {},
   "outputs": [],
   "source": [
    "from sklearn.preprocessing import MinMaxScaler\n",
    "mms=MinMaxScaler()\n",
    "from sklearn.linear_model import LinearRegression\n",
    "lr=LinearRegression()\n",
    "from sklearn.metrics import r2_score\n",
    "from sklearn.model_selection import train_test_split\n",
    "import warnings\n",
    "warnings.filterwarnings('ignore')"
   ]
  },
  {
   "cell_type": "markdown",
   "metadata": {},
   "source": [
    "# Find the beset random_State use here (currently we are moving ahead with random_state 12:¶¶"
   ]
  },
  {
   "cell_type": "code",
   "execution_count": 179,
   "metadata": {},
   "outputs": [
    {
     "name": "stdout",
     "output_type": "stream",
     "text": [
      "1.0\n"
     ]
    }
   ],
   "source": [
    "features_train,features_test,target_train,target_test=train_test_split(features,target,test_size=0.2,random_state=12)\n",
    "lr.fit(features_train,target_train)\n",
    "pred_test=lr.predict(features_test)\n",
    "print(r2_score(target_test,pred_test))"
   ]
  },
  {
   "cell_type": "markdown",
   "metadata": {},
   "source": [
    "# Regularization:¶¶"
   ]
  },
  {
   "cell_type": "code",
   "execution_count": 180,
   "metadata": {},
   "outputs": [],
   "source": [
    "from sklearn.model_selection import GridSearchCV\n",
    "from sklearn.model_selection import cross_val_score\n",
    "import warnings\n",
    "warnings.filterwarnings('ignore')\n",
    "from sklearn.linear_model import Lasso,Ridge"
   ]
  },
  {
   "cell_type": "code",
   "execution_count": 181,
   "metadata": {},
   "outputs": [
    {
     "name": "stdout",
     "output_type": "stream",
     "text": [
      "{'alpha': 0.001, 'random_state': 0}\n"
     ]
    }
   ],
   "source": [
    "parameters = {'alpha':[.0001, .001, .01, .1, 1, 10],'random_state':list(range(0,10))}\n",
    "ls = Lasso()\n",
    "clf = GridSearchCV(ls,parameters)\n",
    "clf.fit(features_train,target_train)\n",
    "\n",
    "print(clf.best_params_)"
   ]
  },
  {
   "cell_type": "code",
   "execution_count": 182,
   "metadata": {},
   "outputs": [
    {
     "data": {
      "text/plain": [
       "0.9999999990886888"
      ]
     },
     "execution_count": 182,
     "metadata": {},
     "output_type": "execute_result"
    }
   ],
   "source": [
    "ls = Lasso(alpha=1,random_state=0)\n",
    "ls.fit(features_train,target_train)\n",
    "ls.score(features_train,target_train)\n",
    "pred_ls = ls.predict(features_test)\n",
    "\n",
    "lss = r2_score(target_test,pred_ls)\n",
    "lss"
   ]
  },
  {
   "cell_type": "code",
   "execution_count": 183,
   "metadata": {},
   "outputs": [
    {
     "data": {
      "text/plain": [
       "0.9999999988559954"
      ]
     },
     "execution_count": 183,
     "metadata": {},
     "output_type": "execute_result"
    }
   ],
   "source": [
    "cv_score=cross_val_score(ls,features,target,cv=5)\n",
    "cv_mean=cv_score.mean()\n",
    "cv_mean"
   ]
  },
  {
   "cell_type": "code",
   "execution_count": 184,
   "metadata": {},
   "outputs": [
    {
     "name": "stdout",
     "output_type": "stream",
     "text": [
      "{'alpha': 0.0001, 'random_state': 0}\n"
     ]
    }
   ],
   "source": [
    "parameters = {'alpha':[.0001, .001, .01, .1, 1, 10],'random_state':list(range(0,10))}\n",
    "rd = Ridge()\n",
    "clf = GridSearchCV(rd,parameters)\n",
    "clf.fit(features_train,target_train)\n",
    "\n",
    "print(clf.best_params_)"
   ]
  },
  {
   "cell_type": "code",
   "execution_count": 185,
   "metadata": {},
   "outputs": [
    {
     "data": {
      "text/plain": [
       "0.9999999999999458"
      ]
     },
     "execution_count": 185,
     "metadata": {},
     "output_type": "execute_result"
    }
   ],
   "source": [
    "rd = Ridge(alpha=1,random_state=0)\n",
    "rd.fit(features_train,target_train)\n",
    "rd.score(features_train,target_train)\n",
    "pred_rd = rd.predict(features_test)\n",
    "\n",
    "rds = r2_score(target_test,pred_rd)\n",
    "rds"
   ]
  },
  {
   "cell_type": "code",
   "execution_count": 186,
   "metadata": {},
   "outputs": [
    {
     "data": {
      "text/plain": [
       "0.9999999999990392"
      ]
     },
     "execution_count": 186,
     "metadata": {},
     "output_type": "execute_result"
    }
   ],
   "source": [
    "cv_score=cross_val_score(rd,features,target,cv=5)\n",
    "cv_mean=cv_score.mean()\n",
    "cv_mean"
   ]
  },
  {
   "cell_type": "markdown",
   "metadata": {},
   "source": [
    "# Ensemble technique:¶¶¶"
   ]
  },
  {
   "cell_type": "code",
   "execution_count": 187,
   "metadata": {},
   "outputs": [
    {
     "name": "stdout",
     "output_type": "stream",
     "text": [
      "{'criterion': 'mse', 'max_features': 'auto'}\n"
     ]
    }
   ],
   "source": [
    "from sklearn.model_selection import GridSearchCV\n",
    "from sklearn.ensemble import RandomForestRegressor\n",
    "\n",
    "parameters = {'criterion':['mse', 'mae'],'max_features':[\"auto\", \"sqrt\", \"log2\"]}\n",
    "rf =RandomForestRegressor()\n",
    "clf = GridSearchCV(rf,parameters)\n",
    "clf.fit(features_train,target_train)\n",
    "\n",
    "print(clf.best_params_)"
   ]
  },
  {
   "cell_type": "code",
   "execution_count": 188,
   "metadata": {},
   "outputs": [
    {
     "name": "stdout",
     "output_type": "stream",
     "text": [
      "R2 Score: 99.94120280209007\n",
      "Cross Val Score: 98.38985672946693\n"
     ]
    }
   ],
   "source": [
    "rf= RandomForestRegressor(criterion=\"mse\",max_features=\"auto\")\n",
    "rf.fit(features_train, target_train)\n",
    "rf.score(features_train, target_train)\n",
    "pred_decision = rf.predict(features_test)\n",
    "\n",
    "rfs = r2_score(target_test,pred_decision)\n",
    "print('R2 Score:',rfs*100)\n",
    "\n",
    "rfscore = cross_val_score(rf,features,target,cv=5)\n",
    "rfc = rfscore.mean()\n",
    "print('Cross Val Score:',rfc*100)"
   ]
  },
  {
   "cell_type": "code",
   "execution_count": 189,
   "metadata": {},
   "outputs": [
    {
     "name": "stdout",
     "output_type": "stream",
     "text": [
      "Mean absolute error:: 1.1552049639454532e-13\n",
      "Mean squared error:: 2.3577149012033123e-26\n",
      "Root mean square:: 1.535485233144009e-13\n"
     ]
    }
   ],
   "source": [
    "print('Mean absolute error::',mean_absolute_error(ytest,pred)) \n",
    "print('Mean squared error::',mean_squared_error(ytest,pred))\n",
    "print('Root mean square::',np.sqrt(mean_squared_error(ytest,pred)))"
   ]
  },
  {
   "cell_type": "markdown",
   "metadata": {},
   "source": [
    "# so as per observation i created a model of car prediction which can predict price of used car with r2 scoreof almost 99.92% and cv score of 98.34% , i used 3 regration technique, linear , lasso and ridge. As per my observation the model very accurate and good to go"
   ]
  },
  {
   "cell_type": "code",
   "execution_count": 190,
   "metadata": {},
   "outputs": [],
   "source": [
    "import pickle\n",
    "filename = 'carprediction.pkl'\n",
    "pickle.dump(rf, open(filename, 'wb'))"
   ]
  },
  {
   "cell_type": "markdown",
   "metadata": {},
   "source": [
    "# Conclusion:¶¶"
   ]
  },
  {
   "cell_type": "code",
   "execution_count": 193,
   "metadata": {},
   "outputs": [
    {
     "name": "stdout",
     "output_type": "stream",
     "text": [
      "0.9994120280209008\n"
     ]
    }
   ],
   "source": [
    "loaded_model = pickle.load(open('carprediction.pkl', 'rb'))\n",
    "result = loaded_model.score(features_test, target_test)\n",
    "print(result)"
   ]
  },
  {
   "cell_type": "code",
   "execution_count": 192,
   "metadata": {},
   "outputs": [],
   "source": [
    "conclusion=pd.DataFrame([loaded_model.predict(features_test)[:],pred_decision[:]],index=[\"Predicted\",\"Orginal\"])"
   ]
  },
  {
   "cell_type": "code",
   "execution_count": 194,
   "metadata": {},
   "outputs": [
    {
     "data": {
      "text/html": [
       "<div>\n",
       "<style scoped>\n",
       "    .dataframe tbody tr th:only-of-type {\n",
       "        vertical-align: middle;\n",
       "    }\n",
       "\n",
       "    .dataframe tbody tr th {\n",
       "        vertical-align: top;\n",
       "    }\n",
       "\n",
       "    .dataframe thead th {\n",
       "        text-align: right;\n",
       "    }\n",
       "</style>\n",
       "<table border=\"1\" class=\"dataframe\">\n",
       "  <thead>\n",
       "    <tr style=\"text-align: right;\">\n",
       "      <th></th>\n",
       "      <th>0</th>\n",
       "      <th>1</th>\n",
       "      <th>2</th>\n",
       "      <th>3</th>\n",
       "      <th>4</th>\n",
       "      <th>5</th>\n",
       "      <th>6</th>\n",
       "      <th>7</th>\n",
       "      <th>8</th>\n",
       "      <th>9</th>\n",
       "      <th>...</th>\n",
       "      <th>93</th>\n",
       "      <th>94</th>\n",
       "      <th>95</th>\n",
       "      <th>96</th>\n",
       "      <th>97</th>\n",
       "      <th>98</th>\n",
       "      <th>99</th>\n",
       "      <th>100</th>\n",
       "      <th>101</th>\n",
       "      <th>102</th>\n",
       "    </tr>\n",
       "  </thead>\n",
       "  <tbody>\n",
       "    <tr>\n",
       "      <th>Predicted</th>\n",
       "      <td>718.093259</td>\n",
       "      <td>728.414197</td>\n",
       "      <td>731.22186</td>\n",
       "      <td>880.05176</td>\n",
       "      <td>498.867299</td>\n",
       "      <td>884.881419</td>\n",
       "      <td>680.73897</td>\n",
       "      <td>880.078785</td>\n",
       "      <td>907.016718</td>\n",
       "      <td>1227.228956</td>\n",
       "      <td>...</td>\n",
       "      <td>724.669049</td>\n",
       "      <td>879.486498</td>\n",
       "      <td>812.528005</td>\n",
       "      <td>831.488713</td>\n",
       "      <td>785.633199</td>\n",
       "      <td>859.064156</td>\n",
       "      <td>627.68685</td>\n",
       "      <td>417.676531</td>\n",
       "      <td>884.98245</td>\n",
       "      <td>603.505802</td>\n",
       "    </tr>\n",
       "    <tr>\n",
       "      <th>Orginal</th>\n",
       "      <td>718.093259</td>\n",
       "      <td>728.414197</td>\n",
       "      <td>731.22186</td>\n",
       "      <td>880.05176</td>\n",
       "      <td>498.867299</td>\n",
       "      <td>884.881419</td>\n",
       "      <td>680.73897</td>\n",
       "      <td>880.078785</td>\n",
       "      <td>907.016718</td>\n",
       "      <td>1227.228956</td>\n",
       "      <td>...</td>\n",
       "      <td>724.669049</td>\n",
       "      <td>879.486498</td>\n",
       "      <td>812.528005</td>\n",
       "      <td>831.488713</td>\n",
       "      <td>785.633199</td>\n",
       "      <td>859.064156</td>\n",
       "      <td>627.68685</td>\n",
       "      <td>417.676531</td>\n",
       "      <td>884.98245</td>\n",
       "      <td>603.505802</td>\n",
       "    </tr>\n",
       "  </tbody>\n",
       "</table>\n",
       "<p>2 rows × 103 columns</p>\n",
       "</div>"
      ],
      "text/plain": [
       "                  0           1          2          3           4    \\\n",
       "Predicted  718.093259  728.414197  731.22186  880.05176  498.867299   \n",
       "Orginal    718.093259  728.414197  731.22186  880.05176  498.867299   \n",
       "\n",
       "                  5          6           7           8            9    ...  \\\n",
       "Predicted  884.881419  680.73897  880.078785  907.016718  1227.228956  ...   \n",
       "Orginal    884.881419  680.73897  880.078785  907.016718  1227.228956  ...   \n",
       "\n",
       "                  93          94          95          96          97   \\\n",
       "Predicted  724.669049  879.486498  812.528005  831.488713  785.633199   \n",
       "Orginal    724.669049  879.486498  812.528005  831.488713  785.633199   \n",
       "\n",
       "                  98         99          100        101         102  \n",
       "Predicted  859.064156  627.68685  417.676531  884.98245  603.505802  \n",
       "Orginal    859.064156  627.68685  417.676531  884.98245  603.505802  \n",
       "\n",
       "[2 rows x 103 columns]"
      ]
     },
     "execution_count": 194,
     "metadata": {},
     "output_type": "execute_result"
    }
   ],
   "source": [
    "conclusion"
   ]
  },
  {
   "cell_type": "markdown",
   "metadata": {},
   "source": [
    "# So The Model is ready and good to go"
   ]
  },
  {
   "cell_type": "code",
   "execution_count": null,
   "metadata": {},
   "outputs": [],
   "source": []
  }
 ],
 "metadata": {
  "kernelspec": {
   "display_name": "Python 3",
   "language": "python",
   "name": "python3"
  },
  "language_info": {
   "codemirror_mode": {
    "name": "ipython",
    "version": 3
   },
   "file_extension": ".py",
   "mimetype": "text/x-python",
   "name": "python",
   "nbconvert_exporter": "python",
   "pygments_lexer": "ipython3",
   "version": "3.8.5"
  }
 },
 "nbformat": 4,
 "nbformat_minor": 4
}
